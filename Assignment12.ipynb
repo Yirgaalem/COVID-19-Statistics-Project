{
  "cells": [
    {
      "cell_type": "markdown",
      "metadata": {
        "id": "view-in-github",
        "colab_type": "text"
      },
      "source": [
        "<a href=\"https://colab.research.google.com/github/Yirgaalem/COVID-19-Statistics-Project/blob/main/Assignment12.ipynb\" target=\"_parent\"><img src=\"https://colab.research.google.com/assets/colab-badge.svg\" alt=\"Open In Colab\"/></a>"
      ]
    },
    {
      "cell_type": "markdown",
      "id": "981d0ac3",
      "metadata": {
        "id": "981d0ac3"
      },
      "source": [
        "# CP 322– Machine Learning – Fall 2022\n",
        "\n",
        "## Assignment 1\n",
        "\n",
        "### Due:  Oct 17th, 2022, 11:59 pm\n",
        "---------------------------------------------------------------------------------------------------------------\n",
        "### General information:\n",
        "\n",
        "You will be working on Life Expectancy dataset which is provided in Datasets module in myLearning Space.\n",
        "\n",
        "Ojective of this assignment is to find the insights about your datasets, apply the exploratory data analysis method, visualize the data and find the relationship among the features.\n",
        "\n",
        "### Procedure: \n",
        "\n",
        "You need to make a copy of this notebook and download the dataset file. \n",
        "Write the answar in the provided space. \n",
        "\n",
        "For submission, you need to upload this notebook in Assignment1 dropbox section.\n",
        "\n",
        "Rename the submitted file as Assignment1_student_id.\n"
      ]
    },
    {
      "cell_type": "markdown",
      "id": "d98ab96d",
      "metadata": {
        "id": "d98ab96d"
      },
      "source": [
        "\n",
        "Student Name: Nahor Yirgaalem\n",
        "\n",
        "\n",
        "Student Id: 190775540\n",
        "\n",
        "\n",
        "\n"
      ]
    },
    {
      "cell_type": "code",
      "execution_count": 45,
      "id": "53f023ba",
      "metadata": {
        "id": "53f023ba"
      },
      "outputs": [],
      "source": [
        "# import the necessary library \n",
        "# If you need any other library, you can write the import function here\n",
        "\n",
        "import numpy as np \n",
        "import pandas as pd \n",
        "        \n",
        "import seaborn as sns\n",
        "import matplotlib.pyplot as plt\n"
      ]
    },
    {
      "cell_type": "code",
      "execution_count": 61,
      "id": "072c1959",
      "metadata": {
        "colab": {
          "base_uri": "https://localhost:8080/",
          "height": 500
        },
        "id": "072c1959",
        "outputId": "52d14a85-e4a8-42f0-bedf-6ada1b0722fc"
      },
      "outputs": [
        {
          "output_type": "execute_result",
          "data": {
            "text/plain": [
              "          Country  Year      Status  Life expectancy   Adult Mortality  \\\n",
              "0     Afghanistan  2015  Developing              65.0            263.0   \n",
              "1     Afghanistan  2014  Developing              59.9            271.0   \n",
              "2     Afghanistan  2013  Developing              59.9            268.0   \n",
              "3     Afghanistan  2012  Developing              59.5            272.0   \n",
              "4     Afghanistan  2011  Developing              59.2            275.0   \n",
              "...           ...   ...         ...               ...              ...   \n",
              "2933     Zimbabwe  2004  Developing              44.3            723.0   \n",
              "2934     Zimbabwe  2003  Developing              44.5            715.0   \n",
              "2935     Zimbabwe  2002  Developing              44.8             73.0   \n",
              "2936     Zimbabwe  2001  Developing              45.3            686.0   \n",
              "2937     Zimbabwe  2000  Developing              46.0            665.0   \n",
              "\n",
              "      infant deaths  Alcohol  percentage expenditure         GDP  Population  \\\n",
              "0                62     0.01               71.279624  584.259210  33736494.0   \n",
              "1                64     0.01               73.523582  612.696514    327582.0   \n",
              "2                66     0.01               73.219243  631.744976  31731688.0   \n",
              "3                69     0.01               78.184215  669.959000   3696958.0   \n",
              "4                71     0.01                7.097109   63.537231   2978599.0   \n",
              "...             ...      ...                     ...         ...         ...   \n",
              "2933             27     4.36                0.000000  454.366654  12777511.0   \n",
              "2934             26     4.06                0.000000  453.351155  12633897.0   \n",
              "2935             25     4.43                0.000000   57.348340    125525.0   \n",
              "2936             25     1.72                0.000000  548.587312  12366165.0   \n",
              "2937             24     1.68                0.000000  547.358878  12222251.0   \n",
              "\n",
              "      Schooling  \n",
              "0          10.1  \n",
              "1          10.0  \n",
              "2           9.9  \n",
              "3           9.8  \n",
              "4           9.5  \n",
              "...         ...  \n",
              "2933        9.2  \n",
              "2934        9.5  \n",
              "2935       10.0  \n",
              "2936        9.8  \n",
              "2937        9.8  \n",
              "\n",
              "[2938 rows x 11 columns]"
            ],
            "text/html": [
              "\n",
              "  <div id=\"df-8b0a50f4-5b89-44f2-b13b-6f73db36b6fa\">\n",
              "    <div class=\"colab-df-container\">\n",
              "      <div>\n",
              "<style scoped>\n",
              "    .dataframe tbody tr th:only-of-type {\n",
              "        vertical-align: middle;\n",
              "    }\n",
              "\n",
              "    .dataframe tbody tr th {\n",
              "        vertical-align: top;\n",
              "    }\n",
              "\n",
              "    .dataframe thead th {\n",
              "        text-align: right;\n",
              "    }\n",
              "</style>\n",
              "<table border=\"1\" class=\"dataframe\">\n",
              "  <thead>\n",
              "    <tr style=\"text-align: right;\">\n",
              "      <th></th>\n",
              "      <th>Country</th>\n",
              "      <th>Year</th>\n",
              "      <th>Status</th>\n",
              "      <th>Life expectancy</th>\n",
              "      <th>Adult Mortality</th>\n",
              "      <th>infant deaths</th>\n",
              "      <th>Alcohol</th>\n",
              "      <th>percentage expenditure</th>\n",
              "      <th>GDP</th>\n",
              "      <th>Population</th>\n",
              "      <th>Schooling</th>\n",
              "    </tr>\n",
              "  </thead>\n",
              "  <tbody>\n",
              "    <tr>\n",
              "      <th>0</th>\n",
              "      <td>Afghanistan</td>\n",
              "      <td>2015</td>\n",
              "      <td>Developing</td>\n",
              "      <td>65.0</td>\n",
              "      <td>263.0</td>\n",
              "      <td>62</td>\n",
              "      <td>0.01</td>\n",
              "      <td>71.279624</td>\n",
              "      <td>584.259210</td>\n",
              "      <td>33736494.0</td>\n",
              "      <td>10.1</td>\n",
              "    </tr>\n",
              "    <tr>\n",
              "      <th>1</th>\n",
              "      <td>Afghanistan</td>\n",
              "      <td>2014</td>\n",
              "      <td>Developing</td>\n",
              "      <td>59.9</td>\n",
              "      <td>271.0</td>\n",
              "      <td>64</td>\n",
              "      <td>0.01</td>\n",
              "      <td>73.523582</td>\n",
              "      <td>612.696514</td>\n",
              "      <td>327582.0</td>\n",
              "      <td>10.0</td>\n",
              "    </tr>\n",
              "    <tr>\n",
              "      <th>2</th>\n",
              "      <td>Afghanistan</td>\n",
              "      <td>2013</td>\n",
              "      <td>Developing</td>\n",
              "      <td>59.9</td>\n",
              "      <td>268.0</td>\n",
              "      <td>66</td>\n",
              "      <td>0.01</td>\n",
              "      <td>73.219243</td>\n",
              "      <td>631.744976</td>\n",
              "      <td>31731688.0</td>\n",
              "      <td>9.9</td>\n",
              "    </tr>\n",
              "    <tr>\n",
              "      <th>3</th>\n",
              "      <td>Afghanistan</td>\n",
              "      <td>2012</td>\n",
              "      <td>Developing</td>\n",
              "      <td>59.5</td>\n",
              "      <td>272.0</td>\n",
              "      <td>69</td>\n",
              "      <td>0.01</td>\n",
              "      <td>78.184215</td>\n",
              "      <td>669.959000</td>\n",
              "      <td>3696958.0</td>\n",
              "      <td>9.8</td>\n",
              "    </tr>\n",
              "    <tr>\n",
              "      <th>4</th>\n",
              "      <td>Afghanistan</td>\n",
              "      <td>2011</td>\n",
              "      <td>Developing</td>\n",
              "      <td>59.2</td>\n",
              "      <td>275.0</td>\n",
              "      <td>71</td>\n",
              "      <td>0.01</td>\n",
              "      <td>7.097109</td>\n",
              "      <td>63.537231</td>\n",
              "      <td>2978599.0</td>\n",
              "      <td>9.5</td>\n",
              "    </tr>\n",
              "    <tr>\n",
              "      <th>...</th>\n",
              "      <td>...</td>\n",
              "      <td>...</td>\n",
              "      <td>...</td>\n",
              "      <td>...</td>\n",
              "      <td>...</td>\n",
              "      <td>...</td>\n",
              "      <td>...</td>\n",
              "      <td>...</td>\n",
              "      <td>...</td>\n",
              "      <td>...</td>\n",
              "      <td>...</td>\n",
              "    </tr>\n",
              "    <tr>\n",
              "      <th>2933</th>\n",
              "      <td>Zimbabwe</td>\n",
              "      <td>2004</td>\n",
              "      <td>Developing</td>\n",
              "      <td>44.3</td>\n",
              "      <td>723.0</td>\n",
              "      <td>27</td>\n",
              "      <td>4.36</td>\n",
              "      <td>0.000000</td>\n",
              "      <td>454.366654</td>\n",
              "      <td>12777511.0</td>\n",
              "      <td>9.2</td>\n",
              "    </tr>\n",
              "    <tr>\n",
              "      <th>2934</th>\n",
              "      <td>Zimbabwe</td>\n",
              "      <td>2003</td>\n",
              "      <td>Developing</td>\n",
              "      <td>44.5</td>\n",
              "      <td>715.0</td>\n",
              "      <td>26</td>\n",
              "      <td>4.06</td>\n",
              "      <td>0.000000</td>\n",
              "      <td>453.351155</td>\n",
              "      <td>12633897.0</td>\n",
              "      <td>9.5</td>\n",
              "    </tr>\n",
              "    <tr>\n",
              "      <th>2935</th>\n",
              "      <td>Zimbabwe</td>\n",
              "      <td>2002</td>\n",
              "      <td>Developing</td>\n",
              "      <td>44.8</td>\n",
              "      <td>73.0</td>\n",
              "      <td>25</td>\n",
              "      <td>4.43</td>\n",
              "      <td>0.000000</td>\n",
              "      <td>57.348340</td>\n",
              "      <td>125525.0</td>\n",
              "      <td>10.0</td>\n",
              "    </tr>\n",
              "    <tr>\n",
              "      <th>2936</th>\n",
              "      <td>Zimbabwe</td>\n",
              "      <td>2001</td>\n",
              "      <td>Developing</td>\n",
              "      <td>45.3</td>\n",
              "      <td>686.0</td>\n",
              "      <td>25</td>\n",
              "      <td>1.72</td>\n",
              "      <td>0.000000</td>\n",
              "      <td>548.587312</td>\n",
              "      <td>12366165.0</td>\n",
              "      <td>9.8</td>\n",
              "    </tr>\n",
              "    <tr>\n",
              "      <th>2937</th>\n",
              "      <td>Zimbabwe</td>\n",
              "      <td>2000</td>\n",
              "      <td>Developing</td>\n",
              "      <td>46.0</td>\n",
              "      <td>665.0</td>\n",
              "      <td>24</td>\n",
              "      <td>1.68</td>\n",
              "      <td>0.000000</td>\n",
              "      <td>547.358878</td>\n",
              "      <td>12222251.0</td>\n",
              "      <td>9.8</td>\n",
              "    </tr>\n",
              "  </tbody>\n",
              "</table>\n",
              "<p>2938 rows × 11 columns</p>\n",
              "</div>\n",
              "      <button class=\"colab-df-convert\" onclick=\"convertToInteractive('df-8b0a50f4-5b89-44f2-b13b-6f73db36b6fa')\"\n",
              "              title=\"Convert this dataframe to an interactive table.\"\n",
              "              style=\"display:none;\">\n",
              "        \n",
              "  <svg xmlns=\"http://www.w3.org/2000/svg\" height=\"24px\"viewBox=\"0 0 24 24\"\n",
              "       width=\"24px\">\n",
              "    <path d=\"M0 0h24v24H0V0z\" fill=\"none\"/>\n",
              "    <path d=\"M18.56 5.44l.94 2.06.94-2.06 2.06-.94-2.06-.94-.94-2.06-.94 2.06-2.06.94zm-11 1L8.5 8.5l.94-2.06 2.06-.94-2.06-.94L8.5 2.5l-.94 2.06-2.06.94zm10 10l.94 2.06.94-2.06 2.06-.94-2.06-.94-.94-2.06-.94 2.06-2.06.94z\"/><path d=\"M17.41 7.96l-1.37-1.37c-.4-.4-.92-.59-1.43-.59-.52 0-1.04.2-1.43.59L10.3 9.45l-7.72 7.72c-.78.78-.78 2.05 0 2.83L4 21.41c.39.39.9.59 1.41.59.51 0 1.02-.2 1.41-.59l7.78-7.78 2.81-2.81c.8-.78.8-2.07 0-2.86zM5.41 20L4 18.59l7.72-7.72 1.47 1.35L5.41 20z\"/>\n",
              "  </svg>\n",
              "      </button>\n",
              "      \n",
              "  <style>\n",
              "    .colab-df-container {\n",
              "      display:flex;\n",
              "      flex-wrap:wrap;\n",
              "      gap: 12px;\n",
              "    }\n",
              "\n",
              "    .colab-df-convert {\n",
              "      background-color: #E8F0FE;\n",
              "      border: none;\n",
              "      border-radius: 50%;\n",
              "      cursor: pointer;\n",
              "      display: none;\n",
              "      fill: #1967D2;\n",
              "      height: 32px;\n",
              "      padding: 0 0 0 0;\n",
              "      width: 32px;\n",
              "    }\n",
              "\n",
              "    .colab-df-convert:hover {\n",
              "      background-color: #E2EBFA;\n",
              "      box-shadow: 0px 1px 2px rgba(60, 64, 67, 0.3), 0px 1px 3px 1px rgba(60, 64, 67, 0.15);\n",
              "      fill: #174EA6;\n",
              "    }\n",
              "\n",
              "    [theme=dark] .colab-df-convert {\n",
              "      background-color: #3B4455;\n",
              "      fill: #D2E3FC;\n",
              "    }\n",
              "\n",
              "    [theme=dark] .colab-df-convert:hover {\n",
              "      background-color: #434B5C;\n",
              "      box-shadow: 0px 1px 3px 1px rgba(0, 0, 0, 0.15);\n",
              "      filter: drop-shadow(0px 1px 2px rgba(0, 0, 0, 0.3));\n",
              "      fill: #FFFFFF;\n",
              "    }\n",
              "  </style>\n",
              "\n",
              "      <script>\n",
              "        const buttonEl =\n",
              "          document.querySelector('#df-8b0a50f4-5b89-44f2-b13b-6f73db36b6fa button.colab-df-convert');\n",
              "        buttonEl.style.display =\n",
              "          google.colab.kernel.accessAllowed ? 'block' : 'none';\n",
              "\n",
              "        async function convertToInteractive(key) {\n",
              "          const element = document.querySelector('#df-8b0a50f4-5b89-44f2-b13b-6f73db36b6fa');\n",
              "          const dataTable =\n",
              "            await google.colab.kernel.invokeFunction('convertToInteractive',\n",
              "                                                     [key], {});\n",
              "          if (!dataTable) return;\n",
              "\n",
              "          const docLinkHtml = 'Like what you see? Visit the ' +\n",
              "            '<a target=\"_blank\" href=https://colab.research.google.com/notebooks/data_table.ipynb>data table notebook</a>'\n",
              "            + ' to learn more about interactive tables.';\n",
              "          element.innerHTML = '';\n",
              "          dataTable['output_type'] = 'display_data';\n",
              "          await google.colab.output.renderOutput(dataTable, element);\n",
              "          const docLink = document.createElement('div');\n",
              "          docLink.innerHTML = docLinkHtml;\n",
              "          element.appendChild(docLink);\n",
              "        }\n",
              "      </script>\n",
              "    </div>\n",
              "  </div>\n",
              "  "
            ]
          },
          "metadata": {},
          "execution_count": 61
        }
      ],
      "source": [
        "#Loading the Dataset from your PC where the .csv file is located\n",
        "\n",
        "data= pd.read_csv('/content/sample_data/Life_Expectancy.csv')\n",
        "data"
      ]
    },
    {
      "cell_type": "code",
      "execution_count": 47,
      "id": "1003ff45",
      "metadata": {
        "colab": {
          "base_uri": "https://localhost:8080/"
        },
        "id": "1003ff45",
        "outputId": "c895d5bc-2638-4595-98f6-3dfd4f39400b"
      },
      "outputs": [
        {
          "output_type": "stream",
          "name": "stdout",
          "text": [
            "<class 'pandas.core.frame.DataFrame'>\n",
            "RangeIndex: 2938 entries, 0 to 2937\n",
            "Data columns (total 11 columns):\n",
            " #   Column                  Non-Null Count  Dtype  \n",
            "---  ------                  --------------  -----  \n",
            " 0   Country                 2938 non-null   object \n",
            " 1   Year                    2938 non-null   int64  \n",
            " 2   Status                  2938 non-null   object \n",
            " 3   Life expectancy         2928 non-null   float64\n",
            " 4   Adult Mortality         2928 non-null   float64\n",
            " 5   infant deaths           2938 non-null   int64  \n",
            " 6   Alcohol                 2744 non-null   float64\n",
            " 7   percentage expenditure  2938 non-null   float64\n",
            " 8   GDP                     2490 non-null   float64\n",
            " 9   Population              2286 non-null   float64\n",
            " 10  Schooling               2775 non-null   float64\n",
            "dtypes: float64(7), int64(2), object(2)\n",
            "memory usage: 252.6+ KB\n"
          ]
        }
      ],
      "source": [
        "# Column information\n",
        "# For this dataset, you can consider life expectancy or GDP as your target feature\n",
        "# Others columns such as infant, adult mortality, alcohol, population etc. are consided as a descriptive feature.\n",
        "\n",
        "\n",
        "data.info()\n",
        "\n"
      ]
    },
    {
      "cell_type": "markdown",
      "id": "da339a3c",
      "metadata": {
        "id": "da339a3c"
      },
      "source": [
        "Answer the questions 1 to 6 using proper data analytic method which involve coding, visualizing data and explanation.\n",
        " \n",
        " \n",
        " ## Q1: (4 points)\n",
        " \n",
        " How does Infant and Adult mortality rates affect life expectancy? Give the proper explanation with data visualization method.\n",
        " \n",
        "Ans hints:  Find out the relationship between life expectancy vs infant death and life expectancy vs adult mortality, use the scatter plots\n",
        " \n",
        "\n",
        "\n",
        " \n",
        " "
      ]
    },
    {
      "cell_type": "code",
      "execution_count": 98,
      "id": "41e644bb",
      "metadata": {
        "colab": {
          "base_uri": "https://localhost:8080/",
          "height": 558
        },
        "id": "41e644bb",
        "outputId": "fa7d23b4-9c87-4c80-d6bc-9c43158d8d1b"
      },
      "outputs": [
        {
          "output_type": "execute_result",
          "data": {
            "text/plain": [
              "<matplotlib.axes._subplots.AxesSubplot at 0x7f3f601e2650>"
            ]
          },
          "metadata": {},
          "execution_count": 98
        },
        {
          "output_type": "display_data",
          "data": {
            "text/plain": [
              "<Figure size 432x288 with 1 Axes>"
            ],
            "image/png": "[encoded data removed]"
          },
          "metadata": {
            "needs_background": "light"
          }
        },
        {
          "output_type": "display_data",
          "data": {
            "text/plain": [
              "<Figure size 432x288 with 1 Axes>"
            ],
            "image/png": "[encoded data removed]"
          },
          "metadata": {
            "needs_background": "light"
          }
        }
      ],
      "source": [
        "# write your code and answer here #\n",
        "#Both inftant deaths and adult mortality negatively affect Life expectancy. The higher the number of infant death or Adult mortality, the lower the life expectancy\n",
        "sns.scatterplot(x = 'infant deaths', y = 'Life expectancy ', data = data ) #blue\n",
        "# sns.scatterplot(x = 'Adult Mortality', y = 'Life expectancy ', data = data) #orange\n",
        "data.plot.scatter(x = 'Adult Mortality', y = 'Life expectancy ')\n"
      ]
    },
    {
      "cell_type": "markdown",
      "id": "1f3811c4",
      "metadata": {
        "id": "1f3811c4"
      },
      "source": [
        "## Q2. (3 points)\n",
        "\n",
        "Does Life Expectancy have positive or negative relationship with drinking alcohol?\n"
      ]
    },
    {
      "cell_type": "code",
      "execution_count": null,
      "id": "dd2f5f6d",
      "metadata": {
        "colab": {
          "base_uri": "https://localhost:8080/",
          "height": 296
        },
        "id": "dd2f5f6d",
        "outputId": "a1324a13-1f11-4606-9798-8dc3e70d1b3f"
      },
      "outputs": [
        {
          "output_type": "execute_result",
          "data": {
            "text/plain": [
              "<matplotlib.axes._subplots.AxesSubplot at 0x7f3f6c6c6750>"
            ]
          },
          "metadata": {},
          "execution_count": 6
        },
        {
          "output_type": "display_data",
          "data": {
            "text/plain": [
              "<Figure size 432x288 with 1 Axes>"
            ],
            "image/png": "[encoded data removed]"
          },
          "metadata": {
            "needs_background": "light"
          }
        }
      ],
      "source": [
        " # write your Q2 answer here #\n",
        "sns.scatterplot(y = 'Life expectancy ', x = 'Alcohol', data = data)\n",
        "# Life Expectancy has a positive relationship with drinking alcohol"
      ]
    },
    {
      "cell_type": "markdown",
      "id": "40232610",
      "metadata": {
        "id": "40232610"
      },
      "source": [
        "## Q3. (4 points)\n",
        "\n",
        "Design a mapping function that will convert the status column value (i.e. developing, developed ) to a numerical value (0, 1).\n"
      ]
    },
    {
      "cell_type": "code",
      "execution_count": 62,
      "id": "91fe3ea2",
      "metadata": {
        "colab": {
          "base_uri": "https://localhost:8080/",
          "height": 500
        },
        "id": "91fe3ea2",
        "outputId": "4aa3c4fc-5331-4ff1-fed0-69103468cb44"
      },
      "outputs": [
        {
          "output_type": "execute_result",
          "data": {
            "text/plain": [
              "          Country  Year  Status  Life expectancy   Adult Mortality  \\\n",
              "0     Afghanistan  2015       0              65.0            263.0   \n",
              "1     Afghanistan  2014       0              59.9            271.0   \n",
              "2     Afghanistan  2013       0              59.9            268.0   \n",
              "3     Afghanistan  2012       0              59.5            272.0   \n",
              "4     Afghanistan  2011       0              59.2            275.0   \n",
              "...           ...   ...     ...               ...              ...   \n",
              "2933     Zimbabwe  2004       0              44.3            723.0   \n",
              "2934     Zimbabwe  2003       0              44.5            715.0   \n",
              "2935     Zimbabwe  2002       0              44.8             73.0   \n",
              "2936     Zimbabwe  2001       0              45.3            686.0   \n",
              "2937     Zimbabwe  2000       0              46.0            665.0   \n",
              "\n",
              "      infant deaths  Alcohol  percentage expenditure         GDP  Population  \\\n",
              "0                62     0.01               71.279624  584.259210  33736494.0   \n",
              "1                64     0.01               73.523582  612.696514    327582.0   \n",
              "2                66     0.01               73.219243  631.744976  31731688.0   \n",
              "3                69     0.01               78.184215  669.959000   3696958.0   \n",
              "4                71     0.01                7.097109   63.537231   2978599.0   \n",
              "...             ...      ...                     ...         ...         ...   \n",
              "2933             27     4.36                0.000000  454.366654  12777511.0   \n",
              "2934             26     4.06                0.000000  453.351155  12633897.0   \n",
              "2935             25     4.43                0.000000   57.348340    125525.0   \n",
              "2936             25     1.72                0.000000  548.587312  12366165.0   \n",
              "2937             24     1.68                0.000000  547.358878  12222251.0   \n",
              "\n",
              "      Schooling  \n",
              "0          10.1  \n",
              "1          10.0  \n",
              "2           9.9  \n",
              "3           9.8  \n",
              "4           9.5  \n",
              "...         ...  \n",
              "2933        9.2  \n",
              "2934        9.5  \n",
              "2935       10.0  \n",
              "2936        9.8  \n",
              "2937        9.8  \n",
              "\n",
              "[2938 rows x 11 columns]"
            ],
            "text/html": [
              "\n",
              "  <div id=\"df-5f330fda-598a-4d82-bb45-f26a3a4f3476\">\n",
              "    <div class=\"colab-df-container\">\n",
              "      <div>\n",
              "<style scoped>\n",
              "    .dataframe tbody tr th:only-of-type {\n",
              "        vertical-align: middle;\n",
              "    }\n",
              "\n",
              "    .dataframe tbody tr th {\n",
              "        vertical-align: top;\n",
              "    }\n",
              "\n",
              "    .dataframe thead th {\n",
              "        text-align: right;\n",
              "    }\n",
              "</style>\n",
              "<table border=\"1\" class=\"dataframe\">\n",
              "  <thead>\n",
              "    <tr style=\"text-align: right;\">\n",
              "      <th></th>\n",
              "      <th>Country</th>\n",
              "      <th>Year</th>\n",
              "      <th>Status</th>\n",
              "      <th>Life expectancy</th>\n",
              "      <th>Adult Mortality</th>\n",
              "      <th>infant deaths</th>\n",
              "      <th>Alcohol</th>\n",
              "      <th>percentage expenditure</th>\n",
              "      <th>GDP</th>\n",
              "      <th>Population</th>\n",
              "      <th>Schooling</th>\n",
              "    </tr>\n",
              "  </thead>\n",
              "  <tbody>\n",
              "    <tr>\n",
              "      <th>0</th>\n",
              "      <td>Afghanistan</td>\n",
              "      <td>2015</td>\n",
              "      <td>0</td>\n",
              "      <td>65.0</td>\n",
              "      <td>263.0</td>\n",
              "      <td>62</td>\n",
              "      <td>0.01</td>\n",
              "      <td>71.279624</td>\n",
              "      <td>584.259210</td>\n",
              "      <td>33736494.0</td>\n",
              "      <td>10.1</td>\n",
              "    </tr>\n",
              "    <tr>\n",
              "      <th>1</th>\n",
              "      <td>Afghanistan</td>\n",
              "      <td>2014</td>\n",
              "      <td>0</td>\n",
              "      <td>59.9</td>\n",
              "      <td>271.0</td>\n",
              "      <td>64</td>\n",
              "      <td>0.01</td>\n",
              "      <td>73.523582</td>\n",
              "      <td>612.696514</td>\n",
              "      <td>327582.0</td>\n",
              "      <td>10.0</td>\n",
              "    </tr>\n",
              "    <tr>\n",
              "      <th>2</th>\n",
              "      <td>Afghanistan</td>\n",
              "      <td>2013</td>\n",
              "      <td>0</td>\n",
              "      <td>59.9</td>\n",
              "      <td>268.0</td>\n",
              "      <td>66</td>\n",
              "      <td>0.01</td>\n",
              "      <td>73.219243</td>\n",
              "      <td>631.744976</td>\n",
              "      <td>31731688.0</td>\n",
              "      <td>9.9</td>\n",
              "    </tr>\n",
              "    <tr>\n",
              "      <th>3</th>\n",
              "      <td>Afghanistan</td>\n",
              "      <td>2012</td>\n",
              "      <td>0</td>\n",
              "      <td>59.5</td>\n",
              "      <td>272.0</td>\n",
              "      <td>69</td>\n",
              "      <td>0.01</td>\n",
              "      <td>78.184215</td>\n",
              "      <td>669.959000</td>\n",
              "      <td>3696958.0</td>\n",
              "      <td>9.8</td>\n",
              "    </tr>\n",
              "    <tr>\n",
              "      <th>4</th>\n",
              "      <td>Afghanistan</td>\n",
              "      <td>2011</td>\n",
              "      <td>0</td>\n",
              "      <td>59.2</td>\n",
              "      <td>275.0</td>\n",
              "      <td>71</td>\n",
              "      <td>0.01</td>\n",
              "      <td>7.097109</td>\n",
              "      <td>63.537231</td>\n",
              "      <td>2978599.0</td>\n",
              "      <td>9.5</td>\n",
              "    </tr>\n",
              "    <tr>\n",
              "      <th>...</th>\n",
              "      <td>...</td>\n",
              "      <td>...</td>\n",
              "      <td>...</td>\n",
              "      <td>...</td>\n",
              "      <td>...</td>\n",
              "      <td>...</td>\n",
              "      <td>...</td>\n",
              "      <td>...</td>\n",
              "      <td>...</td>\n",
              "      <td>...</td>\n",
              "      <td>...</td>\n",
              "    </tr>\n",
              "    <tr>\n",
              "      <th>2933</th>\n",
              "      <td>Zimbabwe</td>\n",
              "      <td>2004</td>\n",
              "      <td>0</td>\n",
              "      <td>44.3</td>\n",
              "      <td>723.0</td>\n",
              "      <td>27</td>\n",
              "      <td>4.36</td>\n",
              "      <td>0.000000</td>\n",
              "      <td>454.366654</td>\n",
              "      <td>12777511.0</td>\n",
              "      <td>9.2</td>\n",
              "    </tr>\n",
              "    <tr>\n",
              "      <th>2934</th>\n",
              "      <td>Zimbabwe</td>\n",
              "      <td>2003</td>\n",
              "      <td>0</td>\n",
              "      <td>44.5</td>\n",
              "      <td>715.0</td>\n",
              "      <td>26</td>\n",
              "      <td>4.06</td>\n",
              "      <td>0.000000</td>\n",
              "      <td>453.351155</td>\n",
              "      <td>12633897.0</td>\n",
              "      <td>9.5</td>\n",
              "    </tr>\n",
              "    <tr>\n",
              "      <th>2935</th>\n",
              "      <td>Zimbabwe</td>\n",
              "      <td>2002</td>\n",
              "      <td>0</td>\n",
              "      <td>44.8</td>\n",
              "      <td>73.0</td>\n",
              "      <td>25</td>\n",
              "      <td>4.43</td>\n",
              "      <td>0.000000</td>\n",
              "      <td>57.348340</td>\n",
              "      <td>125525.0</td>\n",
              "      <td>10.0</td>\n",
              "    </tr>\n",
              "    <tr>\n",
              "      <th>2936</th>\n",
              "      <td>Zimbabwe</td>\n",
              "      <td>2001</td>\n",
              "      <td>0</td>\n",
              "      <td>45.3</td>\n",
              "      <td>686.0</td>\n",
              "      <td>25</td>\n",
              "      <td>1.72</td>\n",
              "      <td>0.000000</td>\n",
              "      <td>548.587312</td>\n",
              "      <td>12366165.0</td>\n",
              "      <td>9.8</td>\n",
              "    </tr>\n",
              "    <tr>\n",
              "      <th>2937</th>\n",
              "      <td>Zimbabwe</td>\n",
              "      <td>2000</td>\n",
              "      <td>0</td>\n",
              "      <td>46.0</td>\n",
              "      <td>665.0</td>\n",
              "      <td>24</td>\n",
              "      <td>1.68</td>\n",
              "      <td>0.000000</td>\n",
              "      <td>547.358878</td>\n",
              "      <td>12222251.0</td>\n",
              "      <td>9.8</td>\n",
              "    </tr>\n",
              "  </tbody>\n",
              "</table>\n",
              "<p>2938 rows × 11 columns</p>\n",
              "</div>\n",
              "      <button class=\"colab-df-convert\" onclick=\"convertToInteractive('df-5f330fda-598a-4d82-bb45-f26a3a4f3476')\"\n",
              "              title=\"Convert this dataframe to an interactive table.\"\n",
              "              style=\"display:none;\">\n",
              "        \n",
              "  <svg xmlns=\"http://www.w3.org/2000/svg\" height=\"24px\"viewBox=\"0 0 24 24\"\n",
              "       width=\"24px\">\n",
              "    <path d=\"M0 0h24v24H0V0z\" fill=\"none\"/>\n",
              "    <path d=\"M18.56 5.44l.94 2.06.94-2.06 2.06-.94-2.06-.94-.94-2.06-.94 2.06-2.06.94zm-11 1L8.5 8.5l.94-2.06 2.06-.94-2.06-.94L8.5 2.5l-.94 2.06-2.06.94zm10 10l.94 2.06.94-2.06 2.06-.94-2.06-.94-.94-2.06-.94 2.06-2.06.94z\"/><path d=\"M17.41 7.96l-1.37-1.37c-.4-.4-.92-.59-1.43-.59-.52 0-1.04.2-1.43.59L10.3 9.45l-7.72 7.72c-.78.78-.78 2.05 0 2.83L4 21.41c.39.39.9.59 1.41.59.51 0 1.02-.2 1.41-.59l7.78-7.78 2.81-2.81c.8-.78.8-2.07 0-2.86zM5.41 20L4 18.59l7.72-7.72 1.47 1.35L5.41 20z\"/>\n",
              "  </svg>\n",
              "      </button>\n",
              "      \n",
              "  <style>\n",
              "    .colab-df-container {\n",
              "      display:flex;\n",
              "      flex-wrap:wrap;\n",
              "      gap: 12px;\n",
              "    }\n",
              "\n",
              "    .colab-df-convert {\n",
              "      background-color: #E8F0FE;\n",
              "      border: none;\n",
              "      border-radius: 50%;\n",
              "      cursor: pointer;\n",
              "      display: none;\n",
              "      fill: #1967D2;\n",
              "      height: 32px;\n",
              "      padding: 0 0 0 0;\n",
              "      width: 32px;\n",
              "    }\n",
              "\n",
              "    .colab-df-convert:hover {\n",
              "      background-color: #E2EBFA;\n",
              "      box-shadow: 0px 1px 2px rgba(60, 64, 67, 0.3), 0px 1px 3px 1px rgba(60, 64, 67, 0.15);\n",
              "      fill: #174EA6;\n",
              "    }\n",
              "\n",
              "    [theme=dark] .colab-df-convert {\n",
              "      background-color: #3B4455;\n",
              "      fill: #D2E3FC;\n",
              "    }\n",
              "\n",
              "    [theme=dark] .colab-df-convert:hover {\n",
              "      background-color: #434B5C;\n",
              "      box-shadow: 0px 1px 3px 1px rgba(0, 0, 0, 0.15);\n",
              "      filter: drop-shadow(0px 1px 2px rgba(0, 0, 0, 0.3));\n",
              "      fill: #FFFFFF;\n",
              "    }\n",
              "  </style>\n",
              "\n",
              "      <script>\n",
              "        const buttonEl =\n",
              "          document.querySelector('#df-5f330fda-598a-4d82-bb45-f26a3a4f3476 button.colab-df-convert');\n",
              "        buttonEl.style.display =\n",
              "          google.colab.kernel.accessAllowed ? 'block' : 'none';\n",
              "\n",
              "        async function convertToInteractive(key) {\n",
              "          const element = document.querySelector('#df-5f330fda-598a-4d82-bb45-f26a3a4f3476');\n",
              "          const dataTable =\n",
              "            await google.colab.kernel.invokeFunction('convertToInteractive',\n",
              "                                                     [key], {});\n",
              "          if (!dataTable) return;\n",
              "\n",
              "          const docLinkHtml = 'Like what you see? Visit the ' +\n",
              "            '<a target=\"_blank\" href=https://colab.research.google.com/notebooks/data_table.ipynb>data table notebook</a>'\n",
              "            + ' to learn more about interactive tables.';\n",
              "          element.innerHTML = '';\n",
              "          dataTable['output_type'] = 'display_data';\n",
              "          await google.colab.output.renderOutput(dataTable, element);\n",
              "          const docLink = document.createElement('div');\n",
              "          docLink.innerHTML = docLinkHtml;\n",
              "          element.appendChild(docLink);\n",
              "        }\n",
              "      </script>\n",
              "    </div>\n",
              "  </div>\n",
              "  "
            ]
          },
          "metadata": {},
          "execution_count": 62
        }
      ],
      "source": [
        "# write your Q3 answer here #\n",
        "\n",
        "# This dicitonary allows us to easily assign the number 0 to the string \"Developing\" and 1 to \"Developed\". We can call this dicitionary when refering what we will change the country's status too\n",
        "mapDictionary = {\"Developing\": 0, \"Developed\": 1}\n",
        "mapping = data[\"Status\"].map(mapDictionary)\n",
        "data[\"Status\"] = mapping\n",
        "\n",
        "data\n"
      ]
    },
    {
      "cell_type": "markdown",
      "id": "5f0978fe",
      "metadata": {
        "id": "5f0978fe"
      },
      "source": [
        "## Q4. (5 points)\n",
        "\n",
        "What are the minimum, average and maximum GDP in the developing country. \n",
        "List the country name."
      ]
    },
    {
      "cell_type": "code",
      "execution_count": 74,
      "id": "c8eae1f2",
      "metadata": {
        "colab": {
          "base_uri": "https://localhost:8080/"
        },
        "id": "c8eae1f2",
        "outputId": "d58ac35a-4e76-49a9-fbf1-9ae1de1cc67c"
      },
      "outputs": [
        {
          "output_type": "stream",
          "name": "stdout",
          "text": [
            "Country with Minimum GDP:  Philippines  with  1.68135 \n",
            "Country with average GDP:  Bahrain  with  2977.1153 \n",
            "Country with Maximum GDP:  Qatar  with  88564.82298\n"
          ]
        }
      ],
      "source": [
        "# Write your code to answer the Q4 #\n",
        "dict = {\"min\" : 1000, \"avg\" : 0, \"max\" : 0}\n",
        "min, max \n",
        "minC = \"\"\n",
        "maxC = \"\"\n",
        "avg = 0.0\n",
        "\n",
        "for i in range(len(data)):\n",
        "  curr = data.GDP.get(i)\n",
        "  country = data.Country.get(i)\n",
        "  status = data.Status.get(i)\n",
        "\n",
        "  #checks if the GDP value is not none if the status of the country is 'Developing'\n",
        "  if(curr > 0 and curr is not None and status == 0):\n",
        "    if(curr > dict.get(\"max\")):\n",
        "      maxC = country\n",
        "      dict[\"max\"] = curr\n",
        "\n",
        "    elif(curr < dict.get(\"min\")):\n",
        "      minC = country\n",
        "      dict[\"min\"] = curr\n",
        "\n",
        "    avg += float(curr)\n",
        "  \n",
        "avg /= len(data)\n",
        "\n",
        "\n",
        "#To determine the average country\n",
        "avgCountry = data.Country.get(0)\n",
        "curr = data.GDP.get(0)\n",
        "\n",
        "for i in range(len(data)):\n",
        "  diff = data.GDP.get(i)\n",
        "  \n",
        "  if(abs(diff - avg) < abs(curr-avg)):\n",
        "    curr = diff\n",
        "    avgCountry =  data.Country.get(i)\n",
        "\n",
        "# print(data[data['Status'] == 0].groupby(\"Country\")['GDP'].mean())\n",
        "\n",
        "print(\"Country with Minimum GDP: \", minC, \" with \", dict[\"min\"],\"\\nCountry with average GDP: \", avgCountry, \" with \",curr, \"\\nCountry with Maximum GDP: \", maxC, \" with \", dict[\"max\"])"
      ]
    },
    {
      "cell_type": "markdown",
      "id": "023815f6",
      "metadata": {
        "id": "023815f6"
      },
      "source": [
        "## Q5. ( 4 points)\n",
        "\n",
        "Which factors (descriptive features) are negatively affect the GDP?\n"
      ]
    },
    {
      "cell_type": "code",
      "execution_count": 100,
      "id": "7724a2e6",
      "metadata": {
        "id": "7724a2e6",
        "colab": {
          "base_uri": "https://localhost:8080/",
          "height": 396
        },
        "outputId": "b38074c2-0b75-41f9-f448-4e6b32a54e0b"
      },
      "outputs": [
        {
          "output_type": "execute_result",
          "data": {
            "text/plain": [
              "<matplotlib.axes._subplots.AxesSubplot at 0x7f3f6021e710>"
            ]
          },
          "metadata": {},
          "execution_count": 100
        },
        {
          "output_type": "display_data",
          "data": {
            "text/plain": [
              "<Figure size 432x288 with 2 Axes>"
            ],
            "image/png": "[encoded data removed]"
          },
          "metadata": {
            "needs_background": "light"
          }
        }
      ],
      "source": [
        "# Write your code to answer the Q5 #\n",
        "\n",
        "#Creates a heat map with each of the data columns. We can then look at how each\n",
        "#column realtes to one another. We can focus on the GDP and how its affected by other data\n",
        "sns.heatmap(data.corr())\n"
      ]
    },
    {
      "cell_type": "code",
      "source": [],
      "metadata": {
        "id": "VDE8hX5Cclbb"
      },
      "id": "VDE8hX5Cclbb",
      "execution_count": null,
      "outputs": []
    },
    {
      "cell_type": "markdown",
      "id": "80b30d60",
      "metadata": {
        "id": "80b30d60"
      },
      "source": [
        "## Q6. (10 points)\n",
        "\n",
        "Create a data quality report for the life expectancy dataset in terms of the following:\n",
        "\n",
        "a. Missing values\n",
        "\n",
        "b. Outliers \n",
        "\n",
        "Ans Hints: \n",
        "\n",
        "For the coding part, give the step by step procedure, how to identify the outlier and missing values in the dataset and what method is applied to handling the missing value and outlier problems.\n",
        "\n",
        "Finally fillup the following table\n",
        "\n",
        "-----------------------------------------------------------------------------------------------------------------------\n",
        "Feature            ||        Data Quality Issue   ||  Potential Handling strategies\n",
        "                                               \n",
        "                   \n",
        "------------------------------------------------------------------------------------------------------------------------\n",
        "------------------------------------------------------------------------------------------------------------------------\n",
        "\n",
        "\n"
      ]
    },
    {
      "cell_type": "code",
      "execution_count": 83,
      "id": "cfcc63e8",
      "metadata": {
        "id": "cfcc63e8",
        "colab": {
          "base_uri": "https://localhost:8080/"
        },
        "outputId": "0162b48c-f3dd-46df-c82a-8a4ec30c3c07"
      },
      "outputs": [
        {
          "output_type": "execute_result",
          "data": {
            "text/plain": [
              "Country                     0\n",
              "Year                        0\n",
              "Status                      0\n",
              "Life expectancy            10\n",
              "Adult Mortality            10\n",
              "infant deaths               0\n",
              "Alcohol                   194\n",
              "percentage expenditure      0\n",
              "GDP                       448\n",
              "Population                652\n",
              "Schooling                 163\n",
              "dtype: int64"
            ]
          },
          "metadata": {},
          "execution_count": 83
        }
      ],
      "source": [
        "# Write your Q6 Answer here #\n",
        "data.isna().sum()\n"
      ]
    },
    {
      "cell_type": "markdown",
      "id": "19fa2c72",
      "metadata": {
        "id": "19fa2c72"
      },
      "source": [
        "Data Acknowledgement: The data was collected from WHO and United Nations website with the help of Deeksha Russell and Duan Wang.\n",
        "\n",
        "Reference:\n",
        "Chetty R, Stepner M, Abraham S, Lin S, Scuderi B, Turner N, Bergeron A, Cutler D. The Association Between Income and Life Expectancy in the United States, 2001-2014. JAMA. 2016 Apr 26;315(16):1750-66. doi: 10.1001/jama.2016.4226. Erratum in: JAMA. 2017 Jan 3;317(1):90. PMID: 27063997; PMCID: PMC4866586.\n"
      ]
    }
  ],
  "metadata": {
    "kernelspec": {
      "display_name": "Python 3 (ipykernel)",
      "language": "python",
      "name": "python3"
    },
    "language_info": {
      "codemirror_mode": {
        "name": "ipython",
        "version": 3
      },
      "file_extension": ".py",
      "mimetype": "text/x-python",
      "name": "python",
      "nbconvert_exporter": "python",
      "pygments_lexer": "ipython3",
      "version": "3.9.12"
    },
    "colab": {
      "provenance": [],
      "include_colab_link": true
    }
  },
  "nbformat": 4,
  "nbformat_minor": 5
}